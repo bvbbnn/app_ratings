{
 "cells": [
  {
   "cell_type": "code",
   "execution_count": 12,
   "metadata": {},
   "outputs": [],
   "source": [
    "# !pip install bokeh"
   ]
  },
  {
   "cell_type": "code",
   "execution_count": 13,
   "metadata": {},
   "outputs": [],
   "source": [
    "import numpy as np\n",
    "import pandas as pd\n",
    "import matplotlib.pyplot as plt\n",
    "import seaborn as sns\n",
    "import missingno as msno"
   ]
  },
  {
   "cell_type": "code",
   "execution_count": 14,
   "metadata": {},
   "outputs": [],
   "source": [
    "# data.columns"
   ]
  },
  {
   "cell_type": "code",
   "execution_count": 15,
   "metadata": {},
   "outputs": [],
   "source": [
    "# outdata = data.drop('Required_IOS_Version', axis=1)"
   ]
  },
  {
   "cell_type": "code",
   "execution_count": 16,
   "metadata": {},
   "outputs": [],
   "source": [
    "# outdata.info()"
   ]
  },
  {
   "cell_type": "code",
   "execution_count": 17,
   "metadata": {},
   "outputs": [],
   "source": [
    "# outdata.rename(columns={\n",
    "#     'Primary_Genre' : 'Category',\n",
    "#     'Content_Rating' : 'Avalible age',\n",
    "#     'Price' : 'Price',\n",
    "#     'Free' : 'Free',\n",
    "#     'Average_User_Rating' : 'Rating',\n",
    "#     'Reviews' : 'Reviews',\n",
    "#     'Size' : 'Size'\n",
    "# },inplace=True)"
   ]
  },
  {
   "cell_type": "code",
   "execution_count": 18,
   "metadata": {},
   "outputs": [],
   "source": [
    "# def type_cat(types):\n",
    "#     if types == True:\n",
    "#         return 0\n",
    "#     else:\n",
    "#         return 1\n",
    "\n",
    "# outdata['Free'] = outdata['Free'].map(type_cat)"
   ]
  },
  {
   "cell_type": "code",
   "execution_count": 19,
   "metadata": {},
   "outputs": [],
   "source": [
    "# cols = ['Category','Rating','Reviews','Size','Free','Price','Avalible age']\n",
    "# outdata[cols]"
   ]
  },
  {
   "cell_type": "code",
   "execution_count": 20,
   "metadata": {},
   "outputs": [],
   "source": [
    "# outdata"
   ]
  },
  {
   "cell_type": "code",
   "execution_count": 21,
   "metadata": {},
   "outputs": [],
   "source": [
    "# outdata.to_csv('appstore_tableau.csv')"
   ]
  },
  {
   "cell_type": "code",
   "execution_count": 22,
   "metadata": {},
   "outputs": [],
   "source": [
    "data = pd.read_csv('../dataset/appleAppData.csv')"
   ]
  },
  {
   "cell_type": "code",
   "execution_count": 23,
   "metadata": {},
   "outputs": [
    {
     "data": {
      "text/plain": [
       "Index(['App_Id', 'App_Name', 'AppStore_Url', 'Primary_Genre', 'Content_Rating',\n",
       "       'Size_Bytes', 'Required_IOS_Version', 'Released', 'Updated', 'Version',\n",
       "       'Price', 'Currency', 'Free', 'DeveloperId', 'Developer',\n",
       "       'Developer_Url', 'Developer_Website', 'Average_User_Rating', 'Reviews',\n",
       "       'Current_Version_Score', 'Current_Version_Reviews'],\n",
       "      dtype='object')"
      ]
     },
     "execution_count": 23,
     "metadata": {},
     "output_type": "execute_result"
    }
   ],
   "source": [
    "data.columns"
   ]
  },
  {
   "cell_type": "code",
   "execution_count": 24,
   "metadata": {},
   "outputs": [
    {
     "name": "stdout",
     "output_type": "stream",
     "text": [
      "<class 'pandas.core.frame.DataFrame'>\n",
      "RangeIndex: 1230376 entries, 0 to 1230375\n",
      "Data columns (total 21 columns):\n",
      " #   Column                   Non-Null Count    Dtype  \n",
      "---  ------                   --------------    -----  \n",
      " 0   App_Id                   1230376 non-null  object \n",
      " 1   App_Name                 1230375 non-null  object \n",
      " 2   AppStore_Url             1230376 non-null  object \n",
      " 3   Primary_Genre            1230376 non-null  object \n",
      " 4   Content_Rating           1230376 non-null  object \n",
      " 5   Size_Bytes               1230152 non-null  float64\n",
      " 6   Required_IOS_Version     1230376 non-null  object \n",
      " 7   Released                 1230373 non-null  object \n",
      " 8   Updated                  1230376 non-null  object \n",
      " 9   Version                  1230376 non-null  object \n",
      " 10  Price                    1229886 non-null  float64\n",
      " 11  Currency                 1230376 non-null  object \n",
      " 12  Free                     1230376 non-null  bool   \n",
      " 13  DeveloperId              1230376 non-null  int64  \n",
      " 14  Developer                1230376 non-null  object \n",
      " 15  Developer_Url            1229267 non-null  object \n",
      " 16  Developer_Website        586388 non-null   object \n",
      " 17  Average_User_Rating      1230376 non-null  float64\n",
      " 18  Reviews                  1230376 non-null  int64  \n",
      " 19  Current_Version_Score    1230376 non-null  float64\n",
      " 20  Current_Version_Reviews  1230376 non-null  int64  \n",
      "dtypes: bool(1), float64(4), int64(3), object(13)\n",
      "memory usage: 188.9+ MB\n"
     ]
    }
   ],
   "source": [
    "data.info()"
   ]
  },
  {
   "cell_type": "code",
   "execution_count": 25,
   "metadata": {},
   "outputs": [
    {
     "name": "stdout",
     "output_type": "stream",
     "text": [
      "1\n"
     ]
    }
   ],
   "source": [
    "data['is_same_col'] = data['Current_Version_Score'] != data['Average_User_Rating']\n",
    "print(data['is_same_col'].sum()) # 모두 True인지 확인. 1개만 다름  = 제거."
   ]
  },
  {
   "cell_type": "code",
   "execution_count": 26,
   "metadata": {},
   "outputs": [
    {
     "name": "stdout",
     "output_type": "stream",
     "text": [
      "True\n"
     ]
    }
   ],
   "source": [
    "data['is_same'] = data['Current_Version_Reviews'] == data['Reviews']\n",
    "print(data['is_same'].all()) # 모두 True인지 확인"
   ]
  },
  {
   "cell_type": "code",
   "execution_count": 27,
   "metadata": {},
   "outputs": [
    {
     "data": {
      "text/plain": [
       "array([0.     , 5.     , 4.78132, ..., 4.00352, 3.91608, 4.82733])"
      ]
     },
     "execution_count": 27,
     "metadata": {},
     "output_type": "execute_result"
    }
   ],
   "source": [
    "data['Average_User_Rating'].unique()\n",
    "# 제거대상\n",
    "# App_Id, AppStore_Url, Released, Updated, Version, DeveloperId, Developer, Developer_Url, Developer_Website, Current_Version_Score, Current_Version_Reviews, Currency"
   ]
  },
  {
   "cell_type": "code",
   "execution_count": 28,
   "metadata": {},
   "outputs": [
    {
     "data": {
      "text/html": [
       "<div>\n",
       "<style scoped>\n",
       "    .dataframe tbody tr th:only-of-type {\n",
       "        vertical-align: middle;\n",
       "    }\n",
       "\n",
       "    .dataframe tbody tr th {\n",
       "        vertical-align: top;\n",
       "    }\n",
       "\n",
       "    .dataframe thead th {\n",
       "        text-align: right;\n",
       "    }\n",
       "</style>\n",
       "<table border=\"1\" class=\"dataframe\">\n",
       "  <thead>\n",
       "    <tr style=\"text-align: right;\">\n",
       "      <th></th>\n",
       "      <th>Primary_Genre</th>\n",
       "      <th>Content_Rating</th>\n",
       "      <th>Size_Bytes</th>\n",
       "      <th>Required_IOS_Version</th>\n",
       "      <th>Price</th>\n",
       "      <th>Currency</th>\n",
       "      <th>Free</th>\n",
       "      <th>Average_User_Rating</th>\n",
       "      <th>Reviews</th>\n",
       "    </tr>\n",
       "  </thead>\n",
       "  <tbody>\n",
       "    <tr>\n",
       "      <th>0</th>\n",
       "      <td>Education</td>\n",
       "      <td>4+</td>\n",
       "      <td>21993472.0</td>\n",
       "      <td>8.0</td>\n",
       "      <td>0.00</td>\n",
       "      <td>USD</td>\n",
       "      <td>True</td>\n",
       "      <td>0.0</td>\n",
       "      <td>0</td>\n",
       "    </tr>\n",
       "    <tr>\n",
       "      <th>1</th>\n",
       "      <td>Book</td>\n",
       "      <td>4+</td>\n",
       "      <td>13135872.0</td>\n",
       "      <td>10.0</td>\n",
       "      <td>0.00</td>\n",
       "      <td>USD</td>\n",
       "      <td>True</td>\n",
       "      <td>5.0</td>\n",
       "      <td>1</td>\n",
       "    </tr>\n",
       "    <tr>\n",
       "      <th>2</th>\n",
       "      <td>Book</td>\n",
       "      <td>4+</td>\n",
       "      <td>21943296.0</td>\n",
       "      <td>9.0</td>\n",
       "      <td>0.00</td>\n",
       "      <td>USD</td>\n",
       "      <td>True</td>\n",
       "      <td>0.0</td>\n",
       "      <td>0</td>\n",
       "    </tr>\n",
       "    <tr>\n",
       "      <th>3</th>\n",
       "      <td>Book</td>\n",
       "      <td>4+</td>\n",
       "      <td>81851392.0</td>\n",
       "      <td>8.0</td>\n",
       "      <td>2.99</td>\n",
       "      <td>USD</td>\n",
       "      <td>False</td>\n",
       "      <td>0.0</td>\n",
       "      <td>0</td>\n",
       "    </tr>\n",
       "    <tr>\n",
       "      <th>4</th>\n",
       "      <td>Reference</td>\n",
       "      <td>4+</td>\n",
       "      <td>64692224.0</td>\n",
       "      <td>9.0</td>\n",
       "      <td>0.00</td>\n",
       "      <td>USD</td>\n",
       "      <td>True</td>\n",
       "      <td>0.0</td>\n",
       "      <td>0</td>\n",
       "    </tr>\n",
       "  </tbody>\n",
       "</table>\n",
       "</div>"
      ],
      "text/plain": [
       "  Primary_Genre Content_Rating  Size_Bytes Required_IOS_Version  Price  \\\n",
       "0     Education             4+  21993472.0                  8.0   0.00   \n",
       "1          Book             4+  13135872.0                 10.0   0.00   \n",
       "2          Book             4+  21943296.0                  9.0   0.00   \n",
       "3          Book             4+  81851392.0                  8.0   2.99   \n",
       "4     Reference             4+  64692224.0                  9.0   0.00   \n",
       "\n",
       "  Currency   Free  Average_User_Rating  Reviews  \n",
       "0      USD   True                  0.0        0  \n",
       "1      USD   True                  5.0        1  \n",
       "2      USD   True                  0.0        0  \n",
       "3      USD  False                  0.0        0  \n",
       "4      USD   True                  0.0        0  "
      ]
     },
     "execution_count": 28,
     "metadata": {},
     "output_type": "execute_result"
    }
   ],
   "source": [
    "cols = ['App_Name', 'App_Id', 'AppStore_Url', 'Released', 'Updated', 'Version', 'DeveloperId', 'Developer', 'Developer_Url', 'Developer_Website', 'Current_Version_Score', 'Current_Version_Reviews', 'is_same','is_same_col']\n",
    "data.drop(columns=cols, inplace=True)\n",
    "data.head()"
   ]
  },
  {
   "cell_type": "code",
   "execution_count": 29,
   "metadata": {},
   "outputs": [
    {
     "data": {
      "text/plain": [
       "array(['4+', '17+', '9+', '12+', 'Not yet rated'], dtype=object)"
      ]
     },
     "execution_count": 29,
     "metadata": {},
     "output_type": "execute_result"
    }
   ],
   "source": [
    "# 이용가능 연령대 정수인코딩로 결정.\n",
    "data['Content_Rating'].unique()"
   ]
  },
  {
   "cell_type": "code",
   "execution_count": 30,
   "metadata": {},
   "outputs": [],
   "source": [
    "data.drop('Currency', axis=1, inplace=True)"
   ]
  },
  {
   "cell_type": "code",
   "execution_count": 31,
   "metadata": {},
   "outputs": [
    {
     "name": "stdout",
     "output_type": "stream",
     "text": [
      "<class 'pandas.core.frame.DataFrame'>\n",
      "RangeIndex: 1230376 entries, 0 to 1230375\n",
      "Data columns (total 8 columns):\n",
      " #   Column                Non-Null Count    Dtype  \n",
      "---  ------                --------------    -----  \n",
      " 0   Primary_Genre         1230376 non-null  object \n",
      " 1   Content_Rating        1230376 non-null  object \n",
      " 2   Size_Bytes            1230152 non-null  float64\n",
      " 3   Required_IOS_Version  1230376 non-null  object \n",
      " 4   Price                 1229886 non-null  float64\n",
      " 5   Free                  1230376 non-null  bool   \n",
      " 6   Average_User_Rating   1230376 non-null  float64\n",
      " 7   Reviews               1230376 non-null  int64  \n",
      "dtypes: bool(1), float64(3), int64(1), object(3)\n",
      "memory usage: 66.9+ MB\n"
     ]
    }
   ],
   "source": [
    "data.info()"
   ]
  },
  {
   "cell_type": "code",
   "execution_count": 32,
   "metadata": {},
   "outputs": [
    {
     "data": {
      "text/plain": [
       "Price                   490\n",
       "Size_Bytes              224\n",
       "Primary_Genre             0\n",
       "Content_Rating            0\n",
       "Required_IOS_Version      0\n",
       "Free                      0\n",
       "Average_User_Rating       0\n",
       "Reviews                   0\n",
       "dtype: int64"
      ]
     },
     "execution_count": 32,
     "metadata": {},
     "output_type": "execute_result"
    }
   ],
   "source": [
    "data.isnull().sum().sort_values(ascending=False)"
   ]
  },
  {
   "cell_type": "code",
   "execution_count": 33,
   "metadata": {},
   "outputs": [],
   "source": [
    "# 가격이나 파일의 크기는 trend를 반영하지 않음으로 평균값으로 대체.\n",
    "data['Price'].fillna(data['Price'].mean(), inplace=True)\n",
    "data['Size_Bytes'].fillna(data['Size_Bytes'].mean(), inplace=True)"
   ]
  },
  {
   "cell_type": "code",
   "execution_count": 34,
   "metadata": {},
   "outputs": [
    {
     "data": {
      "text/plain": [
       "Primary_Genre           0\n",
       "Content_Rating          0\n",
       "Size_Bytes              0\n",
       "Required_IOS_Version    0\n",
       "Price                   0\n",
       "Free                    0\n",
       "Average_User_Rating     0\n",
       "Reviews                 0\n",
       "dtype: int64"
      ]
     },
     "execution_count": 34,
     "metadata": {},
     "output_type": "execute_result"
    }
   ],
   "source": [
    "data.isnull().sum()"
   ]
  },
  {
   "cell_type": "code",
   "execution_count": 35,
   "metadata": {},
   "outputs": [
    {
     "data": {
      "text/plain": [
       "<Axes: >"
      ]
     },
     "execution_count": 35,
     "metadata": {},
     "output_type": "execute_result"
    },
    {
     "data": {
      "image/png": "[encoded data removed]",
      "text/plain": [
       "<Figure size 2500x1000 with 2 Axes>"
      ]
     },
     "metadata": {},
     "output_type": "display_data"
    }
   ],
   "source": [
    "msno.matrix(data)"
   ]
  },
  {
   "cell_type": "code",
   "execution_count": 36,
   "metadata": {},
   "outputs": [],
   "source": [
    "# 'byte -> megabyte'로 변환 후 반올림. byte컬럼 삭제\n",
    "data['Size'] = (data['Size_Bytes'] / (1024*1024)).round()\n",
    "data.drop('Size_Bytes', axis=1, inplace=True)"
   ]
  },
  {
   "cell_type": "code",
   "execution_count": 37,
   "metadata": {},
   "outputs": [
    {
     "name": "stdout",
     "output_type": "stream",
     "text": [
      "<class 'pandas.core.frame.DataFrame'>\n",
      "RangeIndex: 1230376 entries, 0 to 1230375\n",
      "Data columns (total 8 columns):\n",
      " #   Column                Non-Null Count    Dtype  \n",
      "---  ------                --------------    -----  \n",
      " 0   Primary_Genre         1230376 non-null  object \n",
      " 1   Content_Rating        1230376 non-null  object \n",
      " 2   Required_IOS_Version  1230376 non-null  object \n",
      " 3   Price                 1230376 non-null  float64\n",
      " 4   Free                  1230376 non-null  bool   \n",
      " 5   Average_User_Rating   1230376 non-null  float64\n",
      " 6   Reviews               1230376 non-null  int64  \n",
      " 7   Size                  1230376 non-null  float64\n",
      "dtypes: bool(1), float64(3), int64(1), object(3)\n",
      "memory usage: 66.9+ MB\n"
     ]
    }
   ],
   "source": [
    "data.info()"
   ]
  },
  {
   "cell_type": "code",
   "execution_count": 38,
   "metadata": {},
   "outputs": [],
   "source": [
    "# 데이터 간결화 - 가격,크기는 반올림 후 정수화\n",
    "data['Size'] = data['Size'].astype(int)\n",
    "data['Price'] = data['Price'].round().astype(int)\n",
    "data['Average_User_Rating'] = data['Average_User_Rating'].round(2)"
   ]
  },
  {
   "cell_type": "code",
   "execution_count": 39,
   "metadata": {},
   "outputs": [
    {
     "name": "stdout",
     "output_type": "stream",
     "text": [
      "<class 'pandas.core.frame.DataFrame'>\n",
      "RangeIndex: 1230376 entries, 0 to 1230375\n",
      "Data columns (total 8 columns):\n",
      " #   Column                Non-Null Count    Dtype  \n",
      "---  ------                --------------    -----  \n",
      " 0   Primary_Genre         1230376 non-null  object \n",
      " 1   Content_Rating        1230376 non-null  object \n",
      " 2   Required_IOS_Version  1230376 non-null  object \n",
      " 3   Price                 1230376 non-null  int32  \n",
      " 4   Free                  1230376 non-null  bool   \n",
      " 5   Average_User_Rating   1230376 non-null  float64\n",
      " 6   Reviews               1230376 non-null  int64  \n",
      " 7   Size                  1230376 non-null  int32  \n",
      "dtypes: bool(1), float64(1), int32(2), int64(1), object(3)\n",
      "memory usage: 57.5+ MB\n"
     ]
    }
   ],
   "source": [
    "data.info()"
   ]
  },
  {
   "cell_type": "code",
   "execution_count": 40,
   "metadata": {},
   "outputs": [
    {
     "data": {
      "text/plain": [
       "(26,\n",
       " array(['Education', 'Book', 'Reference', 'News', 'Lifestyle',\n",
       "        'Health & Fitness', 'Games', 'Medical', 'Food & Drink', 'Sports',\n",
       "        'Shopping', 'Entertainment', 'Utilities', 'Stickers',\n",
       "        'Productivity', 'Music', 'Photo & Video', 'Travel', 'Business',\n",
       "        'Social Networking', 'Magazines & Newspapers', 'Navigation',\n",
       "        'Finance', 'Weather', 'Graphics & Design', 'Developer Tools'],\n",
       "       dtype=object))"
      ]
     },
     "execution_count": 40,
     "metadata": {},
     "output_type": "execute_result"
    }
   ],
   "source": [
    "data['Primary_Genre'].nunique(), data['Primary_Genre'].unique()"
   ]
  },
  {
   "cell_type": "code",
   "execution_count": 41,
   "metadata": {},
   "outputs": [
    {
     "data": {
      "image/png": "[encoded data removed]",
      "text/plain": [
       "<Figure size 1200x1200 with 1 Axes>"
      ]
     },
     "metadata": {},
     "output_type": "display_data"
    }
   ],
   "source": [
    "plt.figure(figsize=(12,12))\n",
    "sns.barplot(x=data['Primary_Genre'].value_counts().index,\n",
    "            y=data['Primary_Genre'].value_counts().values)\n",
    "plt.xlabel('Primary Genre')\n",
    "plt.ylabel('Count')\n",
    "plt.xticks(rotation=90)\n",
    "plt.show()"
   ]
  },
  {
   "cell_type": "code",
   "execution_count": 42,
   "metadata": {},
   "outputs": [],
   "source": [
    "''' \n",
    "이용가능 연령대 - encoding\n",
    "everyone - 0\n",
    "kid - 1\n",
    "children - 2\n",
    "teens - 3\n",
    "adults - 4\n",
    "'''\n",
    "data['Content_Rating'] = data['Content_Rating'].replace('4+', 1)\n",
    "data['Content_Rating'] = data['Content_Rating'].replace('9+', 2)\n",
    "data['Content_Rating'] = data['Content_Rating'].replace('12+', 3)\n",
    "data['Content_Rating'] = data['Content_Rating'].replace('17+', 4)\n",
    "data['Content_Rating'] = data['Content_Rating'].replace('Not yet rated', 0)\n",
    "data['Content_Rating'] = data['Content_Rating'].astype(int)"
   ]
  },
  {
   "cell_type": "code",
   "execution_count": 43,
   "metadata": {},
   "outputs": [
    {
     "name": "stdout",
     "output_type": "stream",
     "text": [
      "<class 'pandas.core.frame.DataFrame'>\n",
      "RangeIndex: 1230376 entries, 0 to 1230375\n",
      "Data columns (total 8 columns):\n",
      " #   Column                Non-Null Count    Dtype  \n",
      "---  ------                --------------    -----  \n",
      " 0   Primary_Genre         1230376 non-null  object \n",
      " 1   Content_Rating        1230376 non-null  int32  \n",
      " 2   Required_IOS_Version  1230376 non-null  object \n",
      " 3   Price                 1230376 non-null  int32  \n",
      " 4   Free                  1230376 non-null  bool   \n",
      " 5   Average_User_Rating   1230376 non-null  float64\n",
      " 6   Reviews               1230376 non-null  int64  \n",
      " 7   Size                  1230376 non-null  int32  \n",
      "dtypes: bool(1), float64(1), int32(3), int64(1), object(2)\n",
      "memory usage: 52.8+ MB\n"
     ]
    }
   ],
   "source": [
    "data.info()"
   ]
  },
  {
   "cell_type": "code",
   "execution_count": 44,
   "metadata": {},
   "outputs": [
    {
     "data": {
      "text/plain": [
       "array(['Education', 'Book', 'Reference', 'News', 'Lifestyle',\n",
       "       'Health & Fitness', 'Games', 'Medical', 'Food & Drink', 'Sports',\n",
       "       'Shopping', 'Entertainment', 'Utilities', 'Stickers',\n",
       "       'Productivity', 'Music', 'Photo & Video', 'Travel', 'Business',\n",
       "       'Social Networking', 'Magazines & Newspapers', 'Navigation',\n",
       "       'Finance', 'Weather', 'Graphics & Design', 'Developer Tools'],\n",
       "      dtype=object)"
      ]
     },
     "execution_count": 44,
     "metadata": {},
     "output_type": "execute_result"
    }
   ],
   "source": [
    "data['Primary_Genre'].unique()"
   ]
  },
  {
   "cell_type": "code",
   "execution_count": 45,
   "metadata": {},
   "outputs": [],
   "source": [
    "import category_encoders as ce"
   ]
  },
  {
   "cell_type": "code",
   "execution_count": 46,
   "metadata": {},
   "outputs": [
    {
     "data": {
      "text/plain": [
       "array(['Education', 'Book', 'Reference', 'News', 'Lifestyle',\n",
       "       'Health & Fitness', 'Games', 'Medical', 'Food & Drink', 'Sports',\n",
       "       'Shopping', 'Entertainment', 'Utilities', 'Stickers',\n",
       "       'Productivity', 'Music', 'Photo & Video', 'Travel', 'Business',\n",
       "       'Social Networking', 'Magazines & Newspapers', 'Navigation',\n",
       "       'Finance', 'Weather', 'Graphics & Design', 'Developer Tools'],\n",
       "      dtype=object)"
      ]
     },
     "execution_count": 46,
     "metadata": {},
     "output_type": "execute_result"
    }
   ],
   "source": [
    "data.Primary_Genre.unique()"
   ]
  },
  {
   "cell_type": "code",
   "execution_count": null,
   "metadata": {},
   "outputs": [],
   "source": [
    "data.rename(columns={'Primary_Genre' : 'Category',\n",
    "                      'Content_Rating' : 'Avalible_age',\n",
    "                      'Average_User_Rating' : 'Rating',\n",
    "                      }, inplace=True)"
   ]
  },
  {
   "cell_type": "code",
   "execution_count": 69,
   "metadata": {},
   "outputs": [],
   "source": [
    "# BinaryEncoder 인스턴스 생성\n",
    "encoder = ce.BinaryEncoder(cols=['Category'], return_df=True)"
   ]
  },
  {
   "cell_type": "code",
   "execution_count": 70,
   "metadata": {},
   "outputs": [
    {
     "data": {
      "text/html": [
       "<style>#sk-container-id-3 {color: black;}#sk-container-id-3 pre{padding: 0;}#sk-container-id-3 div.sk-toggleable {background-color: white;}#sk-container-id-3 label.sk-toggleable__label {cursor: pointer;display: block;width: 100%;margin-bottom: 0;padding: 0.3em;box-sizing: border-box;text-align: center;}#sk-container-id-3 label.sk-toggleable__label-arrow:before {content: \"▸\";float: left;margin-right: 0.25em;color: #696969;}#sk-container-id-3 label.sk-toggleable__label-arrow:hover:before {color: black;}#sk-container-id-3 div.sk-estimator:hover label.sk-toggleable__label-arrow:before {color: black;}#sk-container-id-3 div.sk-toggleable__content {max-height: 0;max-width: 0;overflow: hidden;text-align: left;background-color: #f0f8ff;}#sk-container-id-3 div.sk-toggleable__content pre {margin: 0.2em;color: black;border-radius: 0.25em;background-color: #f0f8ff;}#sk-container-id-3 input.sk-toggleable__control:checked~div.sk-toggleable__content {max-height: 200px;max-width: 100%;overflow: auto;}#sk-container-id-3 input.sk-toggleable__control:checked~label.sk-toggleable__label-arrow:before {content: \"▾\";}#sk-container-id-3 div.sk-estimator input.sk-toggleable__control:checked~label.sk-toggleable__label {background-color: #d4ebff;}#sk-container-id-3 div.sk-label input.sk-toggleable__control:checked~label.sk-toggleable__label {background-color: #d4ebff;}#sk-container-id-3 input.sk-hidden--visually {border: 0;clip: rect(1px 1px 1px 1px);clip: rect(1px, 1px, 1px, 1px);height: 1px;margin: -1px;overflow: hidden;padding: 0;position: absolute;width: 1px;}#sk-container-id-3 div.sk-estimator {font-family: monospace;background-color: #f0f8ff;border: 1px dotted black;border-radius: 0.25em;box-sizing: border-box;margin-bottom: 0.5em;}#sk-container-id-3 div.sk-estimator:hover {background-color: #d4ebff;}#sk-container-id-3 div.sk-parallel-item::after {content: \"\";width: 100%;border-bottom: 1px solid gray;flex-grow: 1;}#sk-container-id-3 div.sk-label:hover label.sk-toggleable__label {background-color: #d4ebff;}#sk-container-id-3 div.sk-serial::before {content: \"\";position: absolute;border-left: 1px solid gray;box-sizing: border-box;top: 0;bottom: 0;left: 50%;z-index: 0;}#sk-container-id-3 div.sk-serial {display: flex;flex-direction: column;align-items: center;background-color: white;padding-right: 0.2em;padding-left: 0.2em;position: relative;}#sk-container-id-3 div.sk-item {position: relative;z-index: 1;}#sk-container-id-3 div.sk-parallel {display: flex;align-items: stretch;justify-content: center;background-color: white;position: relative;}#sk-container-id-3 div.sk-item::before, #sk-container-id-3 div.sk-parallel-item::before {content: \"\";position: absolute;border-left: 1px solid gray;box-sizing: border-box;top: 0;bottom: 0;left: 50%;z-index: -1;}#sk-container-id-3 div.sk-parallel-item {display: flex;flex-direction: column;z-index: 1;position: relative;background-color: white;}#sk-container-id-3 div.sk-parallel-item:first-child::after {align-self: flex-end;width: 50%;}#sk-container-id-3 div.sk-parallel-item:last-child::after {align-self: flex-start;width: 50%;}#sk-container-id-3 div.sk-parallel-item:only-child::after {width: 0;}#sk-container-id-3 div.sk-dashed-wrapped {border: 1px dashed gray;margin: 0 0.4em 0.5em 0.4em;box-sizing: border-box;padding-bottom: 0.4em;background-color: white;}#sk-container-id-3 div.sk-label label {font-family: monospace;font-weight: bold;display: inline-block;line-height: 1.2em;}#sk-container-id-3 div.sk-label-container {text-align: center;}#sk-container-id-3 div.sk-container {/* jupyter's `normalize.less` sets `[hidden] { display: none; }` but bootstrap.min.css set `[hidden] { display: none !important; }` so we also need the `!important` here to be able to override the default hidden behavior on the sphinx rendered scikit-learn.org. See: https://github.com/scikit-learn/scikit-learn/issues/21755 */display: inline-block !important;position: relative;}#sk-container-id-3 div.sk-text-repr-fallback {display: none;}</style><div id=\"sk-container-id-3\" class=\"sk-top-container\"><div class=\"sk-text-repr-fallback\"><pre>BinaryEncoder(cols=[&#x27;Category&#x27;])</pre><b>In a Jupyter environment, please rerun this cell to show the HTML representation or trust the notebook. <br />On GitHub, the HTML representation is unable to render, please try loading this page with nbviewer.org.</b></div><div class=\"sk-container\" hidden><div class=\"sk-item\"><div class=\"sk-estimator sk-toggleable\"><input class=\"sk-toggleable__control sk-hidden--visually\" id=\"sk-estimator-id-3\" type=\"checkbox\" checked><label for=\"sk-estimator-id-3\" class=\"sk-toggleable__label sk-toggleable__label-arrow\">BinaryEncoder</label><div class=\"sk-toggleable__content\"><pre>BinaryEncoder(cols=[&#x27;Category&#x27;])</pre></div></div></div></div></div>"
      ],
      "text/plain": [
       "BinaryEncoder(cols=['Category'])"
      ]
     },
     "execution_count": 70,
     "metadata": {},
     "output_type": "execute_result"
    }
   ],
   "source": [
    "encoder"
   ]
  },
  {
   "cell_type": "code",
   "execution_count": 71,
   "metadata": {},
   "outputs": [
    {
     "data": {
      "text/html": [
       "<div>\n",
       "<style scoped>\n",
       "    .dataframe tbody tr th:only-of-type {\n",
       "        vertical-align: middle;\n",
       "    }\n",
       "\n",
       "    .dataframe tbody tr th {\n",
       "        vertical-align: top;\n",
       "    }\n",
       "\n",
       "    .dataframe thead th {\n",
       "        text-align: right;\n",
       "    }\n",
       "</style>\n",
       "<table border=\"1\" class=\"dataframe\">\n",
       "  <thead>\n",
       "    <tr style=\"text-align: right;\">\n",
       "      <th></th>\n",
       "      <th>Category_0</th>\n",
       "      <th>Category_1</th>\n",
       "      <th>Category_2</th>\n",
       "      <th>Category_3</th>\n",
       "      <th>Category_4</th>\n",
       "      <th>Avalible_age</th>\n",
       "      <th>Required_IOS_Version</th>\n",
       "      <th>Price</th>\n",
       "      <th>Free</th>\n",
       "      <th>Rating</th>\n",
       "      <th>Reviews</th>\n",
       "      <th>Size</th>\n",
       "    </tr>\n",
       "  </thead>\n",
       "  <tbody>\n",
       "    <tr>\n",
       "      <th>0</th>\n",
       "      <td>0</td>\n",
       "      <td>0</td>\n",
       "      <td>0</td>\n",
       "      <td>0</td>\n",
       "      <td>1</td>\n",
       "      <td>1</td>\n",
       "      <td>8.0</td>\n",
       "      <td>0</td>\n",
       "      <td>True</td>\n",
       "      <td>0.00</td>\n",
       "      <td>0</td>\n",
       "      <td>21</td>\n",
       "    </tr>\n",
       "    <tr>\n",
       "      <th>1</th>\n",
       "      <td>0</td>\n",
       "      <td>0</td>\n",
       "      <td>0</td>\n",
       "      <td>1</td>\n",
       "      <td>0</td>\n",
       "      <td>1</td>\n",
       "      <td>10.0</td>\n",
       "      <td>0</td>\n",
       "      <td>True</td>\n",
       "      <td>5.00</td>\n",
       "      <td>1</td>\n",
       "      <td>13</td>\n",
       "    </tr>\n",
       "    <tr>\n",
       "      <th>2</th>\n",
       "      <td>0</td>\n",
       "      <td>0</td>\n",
       "      <td>0</td>\n",
       "      <td>1</td>\n",
       "      <td>0</td>\n",
       "      <td>1</td>\n",
       "      <td>9.0</td>\n",
       "      <td>0</td>\n",
       "      <td>True</td>\n",
       "      <td>0.00</td>\n",
       "      <td>0</td>\n",
       "      <td>21</td>\n",
       "    </tr>\n",
       "    <tr>\n",
       "      <th>3</th>\n",
       "      <td>0</td>\n",
       "      <td>0</td>\n",
       "      <td>0</td>\n",
       "      <td>1</td>\n",
       "      <td>0</td>\n",
       "      <td>1</td>\n",
       "      <td>8.0</td>\n",
       "      <td>3</td>\n",
       "      <td>False</td>\n",
       "      <td>0.00</td>\n",
       "      <td>0</td>\n",
       "      <td>78</td>\n",
       "    </tr>\n",
       "    <tr>\n",
       "      <th>4</th>\n",
       "      <td>0</td>\n",
       "      <td>0</td>\n",
       "      <td>0</td>\n",
       "      <td>1</td>\n",
       "      <td>1</td>\n",
       "      <td>1</td>\n",
       "      <td>9.0</td>\n",
       "      <td>0</td>\n",
       "      <td>True</td>\n",
       "      <td>0.00</td>\n",
       "      <td>0</td>\n",
       "      <td>62</td>\n",
       "    </tr>\n",
       "    <tr>\n",
       "      <th>...</th>\n",
       "      <td>...</td>\n",
       "      <td>...</td>\n",
       "      <td>...</td>\n",
       "      <td>...</td>\n",
       "      <td>...</td>\n",
       "      <td>...</td>\n",
       "      <td>...</td>\n",
       "      <td>...</td>\n",
       "      <td>...</td>\n",
       "      <td>...</td>\n",
       "      <td>...</td>\n",
       "      <td>...</td>\n",
       "    </tr>\n",
       "    <tr>\n",
       "      <th>1230371</th>\n",
       "      <td>0</td>\n",
       "      <td>1</td>\n",
       "      <td>1</td>\n",
       "      <td>0</td>\n",
       "      <td>1</td>\n",
       "      <td>1</td>\n",
       "      <td>13.0</td>\n",
       "      <td>0</td>\n",
       "      <td>True</td>\n",
       "      <td>3.92</td>\n",
       "      <td>143</td>\n",
       "      <td>16</td>\n",
       "    </tr>\n",
       "    <tr>\n",
       "      <th>1230372</th>\n",
       "      <td>0</td>\n",
       "      <td>1</td>\n",
       "      <td>1</td>\n",
       "      <td>0</td>\n",
       "      <td>1</td>\n",
       "      <td>1</td>\n",
       "      <td>9.0</td>\n",
       "      <td>0</td>\n",
       "      <td>True</td>\n",
       "      <td>4.83</td>\n",
       "      <td>1500</td>\n",
       "      <td>37</td>\n",
       "    </tr>\n",
       "    <tr>\n",
       "      <th>1230373</th>\n",
       "      <td>0</td>\n",
       "      <td>1</td>\n",
       "      <td>1</td>\n",
       "      <td>0</td>\n",
       "      <td>1</td>\n",
       "      <td>1</td>\n",
       "      <td>9.0</td>\n",
       "      <td>0</td>\n",
       "      <td>True</td>\n",
       "      <td>4.00</td>\n",
       "      <td>1</td>\n",
       "      <td>16</td>\n",
       "    </tr>\n",
       "    <tr>\n",
       "      <th>1230374</th>\n",
       "      <td>0</td>\n",
       "      <td>1</td>\n",
       "      <td>1</td>\n",
       "      <td>0</td>\n",
       "      <td>1</td>\n",
       "      <td>1</td>\n",
       "      <td>10.0</td>\n",
       "      <td>0</td>\n",
       "      <td>True</td>\n",
       "      <td>0.00</td>\n",
       "      <td>0</td>\n",
       "      <td>54</td>\n",
       "    </tr>\n",
       "    <tr>\n",
       "      <th>1230375</th>\n",
       "      <td>0</td>\n",
       "      <td>1</td>\n",
       "      <td>1</td>\n",
       "      <td>0</td>\n",
       "      <td>1</td>\n",
       "      <td>1</td>\n",
       "      <td>8.0</td>\n",
       "      <td>0</td>\n",
       "      <td>True</td>\n",
       "      <td>0.00</td>\n",
       "      <td>0</td>\n",
       "      <td>81</td>\n",
       "    </tr>\n",
       "  </tbody>\n",
       "</table>\n",
       "<p>1230376 rows × 12 columns</p>\n",
       "</div>"
      ],
      "text/plain": [
       "         Category_0  Category_1  Category_2  Category_3  Category_4  \\\n",
       "0                 0           0           0           0           1   \n",
       "1                 0           0           0           1           0   \n",
       "2                 0           0           0           1           0   \n",
       "3                 0           0           0           1           0   \n",
       "4                 0           0           0           1           1   \n",
       "...             ...         ...         ...         ...         ...   \n",
       "1230371           0           1           1           0           1   \n",
       "1230372           0           1           1           0           1   \n",
       "1230373           0           1           1           0           1   \n",
       "1230374           0           1           1           0           1   \n",
       "1230375           0           1           1           0           1   \n",
       "\n",
       "         Avalible_age Required_IOS_Version  Price   Free  Rating  Reviews  \\\n",
       "0                   1                  8.0      0   True    0.00        0   \n",
       "1                   1                 10.0      0   True    5.00        1   \n",
       "2                   1                  9.0      0   True    0.00        0   \n",
       "3                   1                  8.0      3  False    0.00        0   \n",
       "4                   1                  9.0      0   True    0.00        0   \n",
       "...               ...                  ...    ...    ...     ...      ...   \n",
       "1230371             1                 13.0      0   True    3.92      143   \n",
       "1230372             1                  9.0      0   True    4.83     1500   \n",
       "1230373             1                  9.0      0   True    4.00        1   \n",
       "1230374             1                 10.0      0   True    0.00        0   \n",
       "1230375             1                  8.0      0   True    0.00        0   \n",
       "\n",
       "         Size  \n",
       "0          21  \n",
       "1          13  \n",
       "2          21  \n",
       "3          78  \n",
       "4          62  \n",
       "...       ...  \n",
       "1230371    16  \n",
       "1230372    37  \n",
       "1230373    16  \n",
       "1230374    54  \n",
       "1230375    81  \n",
       "\n",
       "[1230376 rows x 12 columns]"
      ]
     },
     "execution_count": 71,
     "metadata": {},
     "output_type": "execute_result"
    }
   ],
   "source": [
    "# 데이터에 바이너리 인코더를 적용\n",
    "data_bin = encoder.fit_transform(data)\n",
    "data_bin"
   ]
  },
  {
   "cell_type": "code",
   "execution_count": 50,
   "metadata": {},
   "outputs": [
    {
     "data": {
      "text/html": [
       "<style>#sk-container-id-2 {color: black;}#sk-container-id-2 pre{padding: 0;}#sk-container-id-2 div.sk-toggleable {background-color: white;}#sk-container-id-2 label.sk-toggleable__label {cursor: pointer;display: block;width: 100%;margin-bottom: 0;padding: 0.3em;box-sizing: border-box;text-align: center;}#sk-container-id-2 label.sk-toggleable__label-arrow:before {content: \"▸\";float: left;margin-right: 0.25em;color: #696969;}#sk-container-id-2 label.sk-toggleable__label-arrow:hover:before {color: black;}#sk-container-id-2 div.sk-estimator:hover label.sk-toggleable__label-arrow:before {color: black;}#sk-container-id-2 div.sk-toggleable__content {max-height: 0;max-width: 0;overflow: hidden;text-align: left;background-color: #f0f8ff;}#sk-container-id-2 div.sk-toggleable__content pre {margin: 0.2em;color: black;border-radius: 0.25em;background-color: #f0f8ff;}#sk-container-id-2 input.sk-toggleable__control:checked~div.sk-toggleable__content {max-height: 200px;max-width: 100%;overflow: auto;}#sk-container-id-2 input.sk-toggleable__control:checked~label.sk-toggleable__label-arrow:before {content: \"▾\";}#sk-container-id-2 div.sk-estimator input.sk-toggleable__control:checked~label.sk-toggleable__label {background-color: #d4ebff;}#sk-container-id-2 div.sk-label input.sk-toggleable__control:checked~label.sk-toggleable__label {background-color: #d4ebff;}#sk-container-id-2 input.sk-hidden--visually {border: 0;clip: rect(1px 1px 1px 1px);clip: rect(1px, 1px, 1px, 1px);height: 1px;margin: -1px;overflow: hidden;padding: 0;position: absolute;width: 1px;}#sk-container-id-2 div.sk-estimator {font-family: monospace;background-color: #f0f8ff;border: 1px dotted black;border-radius: 0.25em;box-sizing: border-box;margin-bottom: 0.5em;}#sk-container-id-2 div.sk-estimator:hover {background-color: #d4ebff;}#sk-container-id-2 div.sk-parallel-item::after {content: \"\";width: 100%;border-bottom: 1px solid gray;flex-grow: 1;}#sk-container-id-2 div.sk-label:hover label.sk-toggleable__label {background-color: #d4ebff;}#sk-container-id-2 div.sk-serial::before {content: \"\";position: absolute;border-left: 1px solid gray;box-sizing: border-box;top: 0;bottom: 0;left: 50%;z-index: 0;}#sk-container-id-2 div.sk-serial {display: flex;flex-direction: column;align-items: center;background-color: white;padding-right: 0.2em;padding-left: 0.2em;position: relative;}#sk-container-id-2 div.sk-item {position: relative;z-index: 1;}#sk-container-id-2 div.sk-parallel {display: flex;align-items: stretch;justify-content: center;background-color: white;position: relative;}#sk-container-id-2 div.sk-item::before, #sk-container-id-2 div.sk-parallel-item::before {content: \"\";position: absolute;border-left: 1px solid gray;box-sizing: border-box;top: 0;bottom: 0;left: 50%;z-index: -1;}#sk-container-id-2 div.sk-parallel-item {display: flex;flex-direction: column;z-index: 1;position: relative;background-color: white;}#sk-container-id-2 div.sk-parallel-item:first-child::after {align-self: flex-end;width: 50%;}#sk-container-id-2 div.sk-parallel-item:last-child::after {align-self: flex-start;width: 50%;}#sk-container-id-2 div.sk-parallel-item:only-child::after {width: 0;}#sk-container-id-2 div.sk-dashed-wrapped {border: 1px dashed gray;margin: 0 0.4em 0.5em 0.4em;box-sizing: border-box;padding-bottom: 0.4em;background-color: white;}#sk-container-id-2 div.sk-label label {font-family: monospace;font-weight: bold;display: inline-block;line-height: 1.2em;}#sk-container-id-2 div.sk-label-container {text-align: center;}#sk-container-id-2 div.sk-container {/* jupyter's `normalize.less` sets `[hidden] { display: none; }` but bootstrap.min.css set `[hidden] { display: none !important; }` so we also need the `!important` here to be able to override the default hidden behavior on the sphinx rendered scikit-learn.org. See: https://github.com/scikit-learn/scikit-learn/issues/21755 */display: inline-block !important;position: relative;}#sk-container-id-2 div.sk-text-repr-fallback {display: none;}</style><div id=\"sk-container-id-2\" class=\"sk-top-container\"><div class=\"sk-text-repr-fallback\"><pre>BinaryEncoder(cols=[&#x27;Primary_Genre&#x27;],\n",
       "              mapping=[{&#x27;col&#x27;: &#x27;Primary_Genre&#x27;,\n",
       "                        &#x27;mapping&#x27;:      Primary_Genre_0  Primary_Genre_1  Primary_Genre_2  Primary_Genre_3  \\\n",
       " 1                 0                0                0                0   \n",
       " 2                 0                0                0                1   \n",
       " 3                 0                0                0                1   \n",
       " 4                 0                0                1                0   \n",
       " 5                 0                0                1                0   \n",
       " 6                 0                0                1                1   \n",
       " 7                 0                0                1                1   \n",
       " 8                 0                1                0                0   \n",
       " 9                 0                1                0                0   \n",
       " 10                0                1                0                1   \n",
       " 11                0                1                0                1   \n",
       " 12                0                1                1                0   \n",
       " 13                0                1                1                0   \n",
       " 14                0                1                1                1   \n",
       " 15                0                1                1                1   \n",
       " 16                1                0                0                0   \n",
       " 17                1                0                0                0   \n",
       " 18                1                0                0                1   \n",
       " 19                1                0                0                1   \n",
       " 20                1                0                1                0   \n",
       " 21                1                0                1                0   \n",
       " 22                1                0                1                1   \n",
       " 23                1                0                1                1   \n",
       " 24                1                1                0                0   \n",
       " 25                1                1                0                0   \n",
       " 26                1                1                0                1   \n",
       "-1                 0                0                0                0   \n",
       "-2                 0                0                0                0   \n",
       "\n",
       "     Primary_Genre_4  \n",
       " 1                 1  \n",
       " 2                 0  \n",
       " 3                 1  \n",
       " 4                 0  \n",
       " 5                 1  \n",
       " 6                 0  \n",
       " 7                 1  \n",
       " 8                 0  \n",
       " 9                 1  \n",
       " 10                0  \n",
       " 11                1  \n",
       " 12                0  \n",
       " 13                1  \n",
       " 14                0  \n",
       " 15                1  \n",
       " 16                0  \n",
       " 17                1  \n",
       " 18                0  \n",
       " 19                1  \n",
       " 20                0  \n",
       " 21                1  \n",
       " 22                0  \n",
       " 23                1  \n",
       " 24                0  \n",
       " 25                1  \n",
       " 26                0  \n",
       "-1                 0  \n",
       "-2                 0  }])</pre><b>In a Jupyter environment, please rerun this cell to show the HTML representation or trust the notebook. <br />On GitHub, the HTML representation is unable to render, please try loading this page with nbviewer.org.</b></div><div class=\"sk-container\" hidden><div class=\"sk-item\"><div class=\"sk-estimator sk-toggleable\"><input class=\"sk-toggleable__control sk-hidden--visually\" id=\"sk-estimator-id-2\" type=\"checkbox\" checked><label for=\"sk-estimator-id-2\" class=\"sk-toggleable__label sk-toggleable__label-arrow\">BinaryEncoder</label><div class=\"sk-toggleable__content\"><pre>BinaryEncoder(cols=[&#x27;Primary_Genre&#x27;],\n",
       "              mapping=[{&#x27;col&#x27;: &#x27;Primary_Genre&#x27;,\n",
       "                        &#x27;mapping&#x27;:      Primary_Genre_0  Primary_Genre_1  Primary_Genre_2  Primary_Genre_3  \\\n",
       " 1                 0                0                0                0   \n",
       " 2                 0                0                0                1   \n",
       " 3                 0                0                0                1   \n",
       " 4                 0                0                1                0   \n",
       " 5                 0                0                1                0   \n",
       " 6                 0                0                1                1   \n",
       " 7                 0                0                1                1   \n",
       " 8                 0                1                0                0   \n",
       " 9                 0                1                0                0   \n",
       " 10                0                1                0                1   \n",
       " 11                0                1                0                1   \n",
       " 12                0                1                1                0   \n",
       " 13                0                1                1                0   \n",
       " 14                0                1                1                1   \n",
       " 15                0                1                1                1   \n",
       " 16                1                0                0                0   \n",
       " 17                1                0                0                0   \n",
       " 18                1                0                0                1   \n",
       " 19                1                0                0                1   \n",
       " 20                1                0                1                0   \n",
       " 21                1                0                1                0   \n",
       " 22                1                0                1                1   \n",
       " 23                1                0                1                1   \n",
       " 24                1                1                0                0   \n",
       " 25                1                1                0                0   \n",
       " 26                1                1                0                1   \n",
       "-1                 0                0                0                0   \n",
       "-2                 0                0                0                0   \n",
       "\n",
       "     Primary_Genre_4  \n",
       " 1                 1  \n",
       " 2                 0  \n",
       " 3                 1  \n",
       " 4                 0  \n",
       " 5                 1  \n",
       " 6                 0  \n",
       " 7                 1  \n",
       " 8                 0  \n",
       " 9                 1  \n",
       " 10                0  \n",
       " 11                1  \n",
       " 12                0  \n",
       " 13                1  \n",
       " 14                0  \n",
       " 15                1  \n",
       " 16                0  \n",
       " 17                1  \n",
       " 18                0  \n",
       " 19                1  \n",
       " 20                0  \n",
       " 21                1  \n",
       " 22                0  \n",
       " 23                1  \n",
       " 24                0  \n",
       " 25                1  \n",
       " 26                0  \n",
       "-1                 0  \n",
       "-2                 0  }])</pre></div></div></div></div></div>"
      ],
      "text/plain": [
       "BinaryEncoder(cols=['Primary_Genre'],\n",
       "              mapping=[{'col': 'Primary_Genre',\n",
       "                        'mapping':      Primary_Genre_0  Primary_Genre_1  Primary_Genre_2  Primary_Genre_3  \\\n",
       " 1                 0                0                0                0   \n",
       " 2                 0                0                0                1   \n",
       " 3                 0                0                0                1   \n",
       " 4                 0                0                1                0   \n",
       " 5                 0                0                1                0   \n",
       " 6                 0                0                1                1   \n",
       " 7                 0                0                1                1   \n",
       " 8                 0                1                0                0   \n",
       " 9                 0                1                0                0   \n",
       " 10                0                1                0                1   \n",
       " 11                0                1                0                1   \n",
       " 12                0                1                1                0   \n",
       " 13                0                1                1                0   \n",
       " 14                0                1                1                1   \n",
       " 15                0                1                1                1   \n",
       " 16                1                0                0                0   \n",
       " 17                1                0                0                0   \n",
       " 18                1                0                0                1   \n",
       " 19                1                0                0                1   \n",
       " 20                1                0                1                0   \n",
       " 21                1                0                1                0   \n",
       " 22                1                0                1                1   \n",
       " 23                1                0                1                1   \n",
       " 24                1                1                0                0   \n",
       " 25                1                1                0                0   \n",
       " 26                1                1                0                1   \n",
       "-1                 0                0                0                0   \n",
       "-2                 0                0                0                0   \n",
       "\n",
       "     Primary_Genre_4  \n",
       " 1                 1  \n",
       " 2                 0  \n",
       " 3                 1  \n",
       " 4                 0  \n",
       " 5                 1  \n",
       " 6                 0  \n",
       " 7                 1  \n",
       " 8                 0  \n",
       " 9                 1  \n",
       " 10                0  \n",
       " 11                1  \n",
       " 12                0  \n",
       " 13                1  \n",
       " 14                0  \n",
       " 15                1  \n",
       " 16                0  \n",
       " 17                1  \n",
       " 18                0  \n",
       " 19                1  \n",
       " 20                0  \n",
       " 21                1  \n",
       " 22                0  \n",
       " 23                1  \n",
       " 24                0  \n",
       " 25                1  \n",
       " 26                0  \n",
       "-1                 0  \n",
       "-2                 0  }])"
      ]
     },
     "execution_count": 50,
     "metadata": {},
     "output_type": "execute_result"
    }
   ],
   "source": [
    "encoder"
   ]
  },
  {
   "cell_type": "code",
   "execution_count": 72,
   "metadata": {},
   "outputs": [
    {
     "data": {
      "text/html": [
       "<div>\n",
       "<style scoped>\n",
       "    .dataframe tbody tr th:only-of-type {\n",
       "        vertical-align: middle;\n",
       "    }\n",
       "\n",
       "    .dataframe tbody tr th {\n",
       "        vertical-align: top;\n",
       "    }\n",
       "\n",
       "    .dataframe thead th {\n",
       "        text-align: right;\n",
       "    }\n",
       "</style>\n",
       "<table border=\"1\" class=\"dataframe\">\n",
       "  <thead>\n",
       "    <tr style=\"text-align: right;\">\n",
       "      <th></th>\n",
       "      <th>Category_0</th>\n",
       "      <th>Category_1</th>\n",
       "      <th>Category_2</th>\n",
       "      <th>Category_3</th>\n",
       "      <th>Category_4</th>\n",
       "      <th>Avalible_age</th>\n",
       "      <th>Required_IOS_Version</th>\n",
       "      <th>Price</th>\n",
       "      <th>Free</th>\n",
       "      <th>Rating</th>\n",
       "      <th>Reviews</th>\n",
       "      <th>Size</th>\n",
       "    </tr>\n",
       "  </thead>\n",
       "  <tbody>\n",
       "    <tr>\n",
       "      <th>0</th>\n",
       "      <td>0</td>\n",
       "      <td>0</td>\n",
       "      <td>0</td>\n",
       "      <td>0</td>\n",
       "      <td>1</td>\n",
       "      <td>1</td>\n",
       "      <td>8.0</td>\n",
       "      <td>0</td>\n",
       "      <td>True</td>\n",
       "      <td>0.00</td>\n",
       "      <td>0</td>\n",
       "      <td>21</td>\n",
       "    </tr>\n",
       "    <tr>\n",
       "      <th>1</th>\n",
       "      <td>0</td>\n",
       "      <td>0</td>\n",
       "      <td>0</td>\n",
       "      <td>1</td>\n",
       "      <td>0</td>\n",
       "      <td>1</td>\n",
       "      <td>10.0</td>\n",
       "      <td>0</td>\n",
       "      <td>True</td>\n",
       "      <td>5.00</td>\n",
       "      <td>1</td>\n",
       "      <td>13</td>\n",
       "    </tr>\n",
       "    <tr>\n",
       "      <th>2</th>\n",
       "      <td>0</td>\n",
       "      <td>0</td>\n",
       "      <td>0</td>\n",
       "      <td>1</td>\n",
       "      <td>0</td>\n",
       "      <td>1</td>\n",
       "      <td>9.0</td>\n",
       "      <td>0</td>\n",
       "      <td>True</td>\n",
       "      <td>0.00</td>\n",
       "      <td>0</td>\n",
       "      <td>21</td>\n",
       "    </tr>\n",
       "    <tr>\n",
       "      <th>3</th>\n",
       "      <td>0</td>\n",
       "      <td>0</td>\n",
       "      <td>0</td>\n",
       "      <td>1</td>\n",
       "      <td>0</td>\n",
       "      <td>1</td>\n",
       "      <td>8.0</td>\n",
       "      <td>3</td>\n",
       "      <td>False</td>\n",
       "      <td>0.00</td>\n",
       "      <td>0</td>\n",
       "      <td>78</td>\n",
       "    </tr>\n",
       "    <tr>\n",
       "      <th>4</th>\n",
       "      <td>0</td>\n",
       "      <td>0</td>\n",
       "      <td>0</td>\n",
       "      <td>1</td>\n",
       "      <td>1</td>\n",
       "      <td>1</td>\n",
       "      <td>9.0</td>\n",
       "      <td>0</td>\n",
       "      <td>True</td>\n",
       "      <td>0.00</td>\n",
       "      <td>0</td>\n",
       "      <td>62</td>\n",
       "    </tr>\n",
       "    <tr>\n",
       "      <th>...</th>\n",
       "      <td>...</td>\n",
       "      <td>...</td>\n",
       "      <td>...</td>\n",
       "      <td>...</td>\n",
       "      <td>...</td>\n",
       "      <td>...</td>\n",
       "      <td>...</td>\n",
       "      <td>...</td>\n",
       "      <td>...</td>\n",
       "      <td>...</td>\n",
       "      <td>...</td>\n",
       "      <td>...</td>\n",
       "    </tr>\n",
       "    <tr>\n",
       "      <th>1230371</th>\n",
       "      <td>0</td>\n",
       "      <td>1</td>\n",
       "      <td>1</td>\n",
       "      <td>0</td>\n",
       "      <td>1</td>\n",
       "      <td>1</td>\n",
       "      <td>13.0</td>\n",
       "      <td>0</td>\n",
       "      <td>True</td>\n",
       "      <td>3.92</td>\n",
       "      <td>143</td>\n",
       "      <td>16</td>\n",
       "    </tr>\n",
       "    <tr>\n",
       "      <th>1230372</th>\n",
       "      <td>0</td>\n",
       "      <td>1</td>\n",
       "      <td>1</td>\n",
       "      <td>0</td>\n",
       "      <td>1</td>\n",
       "      <td>1</td>\n",
       "      <td>9.0</td>\n",
       "      <td>0</td>\n",
       "      <td>True</td>\n",
       "      <td>4.83</td>\n",
       "      <td>1500</td>\n",
       "      <td>37</td>\n",
       "    </tr>\n",
       "    <tr>\n",
       "      <th>1230373</th>\n",
       "      <td>0</td>\n",
       "      <td>1</td>\n",
       "      <td>1</td>\n",
       "      <td>0</td>\n",
       "      <td>1</td>\n",
       "      <td>1</td>\n",
       "      <td>9.0</td>\n",
       "      <td>0</td>\n",
       "      <td>True</td>\n",
       "      <td>4.00</td>\n",
       "      <td>1</td>\n",
       "      <td>16</td>\n",
       "    </tr>\n",
       "    <tr>\n",
       "      <th>1230374</th>\n",
       "      <td>0</td>\n",
       "      <td>1</td>\n",
       "      <td>1</td>\n",
       "      <td>0</td>\n",
       "      <td>1</td>\n",
       "      <td>1</td>\n",
       "      <td>10.0</td>\n",
       "      <td>0</td>\n",
       "      <td>True</td>\n",
       "      <td>0.00</td>\n",
       "      <td>0</td>\n",
       "      <td>54</td>\n",
       "    </tr>\n",
       "    <tr>\n",
       "      <th>1230375</th>\n",
       "      <td>0</td>\n",
       "      <td>1</td>\n",
       "      <td>1</td>\n",
       "      <td>0</td>\n",
       "      <td>1</td>\n",
       "      <td>1</td>\n",
       "      <td>8.0</td>\n",
       "      <td>0</td>\n",
       "      <td>True</td>\n",
       "      <td>0.00</td>\n",
       "      <td>0</td>\n",
       "      <td>81</td>\n",
       "    </tr>\n",
       "  </tbody>\n",
       "</table>\n",
       "<p>1230376 rows × 12 columns</p>\n",
       "</div>"
      ],
      "text/plain": [
       "         Category_0  Category_1  Category_2  Category_3  Category_4  \\\n",
       "0                 0           0           0           0           1   \n",
       "1                 0           0           0           1           0   \n",
       "2                 0           0           0           1           0   \n",
       "3                 0           0           0           1           0   \n",
       "4                 0           0           0           1           1   \n",
       "...             ...         ...         ...         ...         ...   \n",
       "1230371           0           1           1           0           1   \n",
       "1230372           0           1           1           0           1   \n",
       "1230373           0           1           1           0           1   \n",
       "1230374           0           1           1           0           1   \n",
       "1230375           0           1           1           0           1   \n",
       "\n",
       "         Avalible_age Required_IOS_Version  Price   Free  Rating  Reviews  \\\n",
       "0                   1                  8.0      0   True    0.00        0   \n",
       "1                   1                 10.0      0   True    5.00        1   \n",
       "2                   1                  9.0      0   True    0.00        0   \n",
       "3                   1                  8.0      3  False    0.00        0   \n",
       "4                   1                  9.0      0   True    0.00        0   \n",
       "...               ...                  ...    ...    ...     ...      ...   \n",
       "1230371             1                 13.0      0   True    3.92      143   \n",
       "1230372             1                  9.0      0   True    4.83     1500   \n",
       "1230373             1                  9.0      0   True    4.00        1   \n",
       "1230374             1                 10.0      0   True    0.00        0   \n",
       "1230375             1                  8.0      0   True    0.00        0   \n",
       "\n",
       "         Size  \n",
       "0          21  \n",
       "1          13  \n",
       "2          21  \n",
       "3          78  \n",
       "4          62  \n",
       "...       ...  \n",
       "1230371    16  \n",
       "1230372    37  \n",
       "1230373    16  \n",
       "1230374    54  \n",
       "1230375    81  \n",
       "\n",
       "[1230376 rows x 12 columns]"
      ]
     },
     "execution_count": 72,
     "metadata": {},
     "output_type": "execute_result"
    }
   ],
   "source": [
    "data_bin"
   ]
  },
  {
   "cell_type": "markdown",
   "metadata": {},
   "source": [
    "### 이진 인코딩"
   ]
  },
  {
   "cell_type": "code",
   "execution_count": 73,
   "metadata": {},
   "outputs": [],
   "source": [
    "data_bin.to_csv('../dataset/appstore_bin.csv')"
   ]
  },
  {
   "cell_type": "code",
   "execution_count": 74,
   "metadata": {},
   "outputs": [
    {
     "data": {
      "text/html": [
       "<div>\n",
       "<style scoped>\n",
       "    .dataframe tbody tr th:only-of-type {\n",
       "        vertical-align: middle;\n",
       "    }\n",
       "\n",
       "    .dataframe tbody tr th {\n",
       "        vertical-align: top;\n",
       "    }\n",
       "\n",
       "    .dataframe thead th {\n",
       "        text-align: right;\n",
       "    }\n",
       "</style>\n",
       "<table border=\"1\" class=\"dataframe\">\n",
       "  <thead>\n",
       "    <tr style=\"text-align: right;\">\n",
       "      <th></th>\n",
       "      <th>Category</th>\n",
       "      <th>Avalible_age</th>\n",
       "      <th>Required_IOS_Version</th>\n",
       "      <th>Price</th>\n",
       "      <th>Free</th>\n",
       "      <th>Rating</th>\n",
       "      <th>Reviews</th>\n",
       "      <th>Size</th>\n",
       "    </tr>\n",
       "  </thead>\n",
       "  <tbody>\n",
       "    <tr>\n",
       "      <th>0</th>\n",
       "      <td>Education</td>\n",
       "      <td>1</td>\n",
       "      <td>8.0</td>\n",
       "      <td>0</td>\n",
       "      <td>True</td>\n",
       "      <td>0.00</td>\n",
       "      <td>0</td>\n",
       "      <td>21</td>\n",
       "    </tr>\n",
       "    <tr>\n",
       "      <th>1</th>\n",
       "      <td>Book</td>\n",
       "      <td>1</td>\n",
       "      <td>10.0</td>\n",
       "      <td>0</td>\n",
       "      <td>True</td>\n",
       "      <td>5.00</td>\n",
       "      <td>1</td>\n",
       "      <td>13</td>\n",
       "    </tr>\n",
       "    <tr>\n",
       "      <th>2</th>\n",
       "      <td>Book</td>\n",
       "      <td>1</td>\n",
       "      <td>9.0</td>\n",
       "      <td>0</td>\n",
       "      <td>True</td>\n",
       "      <td>0.00</td>\n",
       "      <td>0</td>\n",
       "      <td>21</td>\n",
       "    </tr>\n",
       "    <tr>\n",
       "      <th>3</th>\n",
       "      <td>Book</td>\n",
       "      <td>1</td>\n",
       "      <td>8.0</td>\n",
       "      <td>3</td>\n",
       "      <td>False</td>\n",
       "      <td>0.00</td>\n",
       "      <td>0</td>\n",
       "      <td>78</td>\n",
       "    </tr>\n",
       "    <tr>\n",
       "      <th>4</th>\n",
       "      <td>Reference</td>\n",
       "      <td>1</td>\n",
       "      <td>9.0</td>\n",
       "      <td>0</td>\n",
       "      <td>True</td>\n",
       "      <td>0.00</td>\n",
       "      <td>0</td>\n",
       "      <td>62</td>\n",
       "    </tr>\n",
       "    <tr>\n",
       "      <th>...</th>\n",
       "      <td>...</td>\n",
       "      <td>...</td>\n",
       "      <td>...</td>\n",
       "      <td>...</td>\n",
       "      <td>...</td>\n",
       "      <td>...</td>\n",
       "      <td>...</td>\n",
       "      <td>...</td>\n",
       "    </tr>\n",
       "    <tr>\n",
       "      <th>1230371</th>\n",
       "      <td>Utilities</td>\n",
       "      <td>1</td>\n",
       "      <td>13.0</td>\n",
       "      <td>0</td>\n",
       "      <td>True</td>\n",
       "      <td>3.92</td>\n",
       "      <td>143</td>\n",
       "      <td>16</td>\n",
       "    </tr>\n",
       "    <tr>\n",
       "      <th>1230372</th>\n",
       "      <td>Utilities</td>\n",
       "      <td>1</td>\n",
       "      <td>9.0</td>\n",
       "      <td>0</td>\n",
       "      <td>True</td>\n",
       "      <td>4.83</td>\n",
       "      <td>1500</td>\n",
       "      <td>37</td>\n",
       "    </tr>\n",
       "    <tr>\n",
       "      <th>1230373</th>\n",
       "      <td>Utilities</td>\n",
       "      <td>1</td>\n",
       "      <td>9.0</td>\n",
       "      <td>0</td>\n",
       "      <td>True</td>\n",
       "      <td>4.00</td>\n",
       "      <td>1</td>\n",
       "      <td>16</td>\n",
       "    </tr>\n",
       "    <tr>\n",
       "      <th>1230374</th>\n",
       "      <td>Utilities</td>\n",
       "      <td>1</td>\n",
       "      <td>10.0</td>\n",
       "      <td>0</td>\n",
       "      <td>True</td>\n",
       "      <td>0.00</td>\n",
       "      <td>0</td>\n",
       "      <td>54</td>\n",
       "    </tr>\n",
       "    <tr>\n",
       "      <th>1230375</th>\n",
       "      <td>Utilities</td>\n",
       "      <td>1</td>\n",
       "      <td>8.0</td>\n",
       "      <td>0</td>\n",
       "      <td>True</td>\n",
       "      <td>0.00</td>\n",
       "      <td>0</td>\n",
       "      <td>81</td>\n",
       "    </tr>\n",
       "  </tbody>\n",
       "</table>\n",
       "<p>1230376 rows × 8 columns</p>\n",
       "</div>"
      ],
      "text/plain": [
       "          Category  Avalible_age Required_IOS_Version  Price   Free  Rating  \\\n",
       "0        Education             1                  8.0      0   True    0.00   \n",
       "1             Book             1                 10.0      0   True    5.00   \n",
       "2             Book             1                  9.0      0   True    0.00   \n",
       "3             Book             1                  8.0      3  False    0.00   \n",
       "4        Reference             1                  9.0      0   True    0.00   \n",
       "...            ...           ...                  ...    ...    ...     ...   \n",
       "1230371  Utilities             1                 13.0      0   True    3.92   \n",
       "1230372  Utilities             1                  9.0      0   True    4.83   \n",
       "1230373  Utilities             1                  9.0      0   True    4.00   \n",
       "1230374  Utilities             1                 10.0      0   True    0.00   \n",
       "1230375  Utilities             1                  8.0      0   True    0.00   \n",
       "\n",
       "         Reviews  Size  \n",
       "0              0    21  \n",
       "1              1    13  \n",
       "2              0    21  \n",
       "3              0    78  \n",
       "4              0    62  \n",
       "...          ...   ...  \n",
       "1230371      143    16  \n",
       "1230372     1500    37  \n",
       "1230373        1    16  \n",
       "1230374        0    54  \n",
       "1230375        0    81  \n",
       "\n",
       "[1230376 rows x 8 columns]"
      ]
     },
     "execution_count": 74,
     "metadata": {},
     "output_type": "execute_result"
    }
   ],
   "source": [
    "data"
   ]
  },
  {
   "cell_type": "markdown",
   "metadata": {},
   "source": [
    "---"
   ]
  },
  {
   "cell_type": "markdown",
   "metadata": {},
   "source": [
    "### 정수 인코딩"
   ]
  },
  {
   "cell_type": "code",
   "execution_count": 76,
   "metadata": {},
   "outputs": [
    {
     "data": {
      "text/plain": [
       "26"
      ]
     },
     "execution_count": 76,
     "metadata": {},
     "output_type": "execute_result"
    }
   ],
   "source": [
    "cate_list = data.Category.unique()\n",
    "len(cate_list)"
   ]
  },
  {
   "cell_type": "code",
   "execution_count": 78,
   "metadata": {},
   "outputs": [
    {
     "data": {
      "text/html": [
       "<div>\n",
       "<style scoped>\n",
       "    .dataframe tbody tr th:only-of-type {\n",
       "        vertical-align: middle;\n",
       "    }\n",
       "\n",
       "    .dataframe tbody tr th {\n",
       "        vertical-align: top;\n",
       "    }\n",
       "\n",
       "    .dataframe thead th {\n",
       "        text-align: right;\n",
       "    }\n",
       "</style>\n",
       "<table border=\"1\" class=\"dataframe\">\n",
       "  <thead>\n",
       "    <tr style=\"text-align: right;\">\n",
       "      <th></th>\n",
       "      <th>Category</th>\n",
       "      <th>Avalible_age</th>\n",
       "      <th>Required_IOS_Version</th>\n",
       "      <th>Price</th>\n",
       "      <th>Free</th>\n",
       "      <th>Rating</th>\n",
       "      <th>Reviews</th>\n",
       "      <th>Size</th>\n",
       "      <th>Cate_int</th>\n",
       "    </tr>\n",
       "  </thead>\n",
       "  <tbody>\n",
       "    <tr>\n",
       "      <th>0</th>\n",
       "      <td>Education</td>\n",
       "      <td>1</td>\n",
       "      <td>8.0</td>\n",
       "      <td>0</td>\n",
       "      <td>True</td>\n",
       "      <td>0.0</td>\n",
       "      <td>0</td>\n",
       "      <td>21</td>\n",
       "      <td>0</td>\n",
       "    </tr>\n",
       "    <tr>\n",
       "      <th>1</th>\n",
       "      <td>Book</td>\n",
       "      <td>1</td>\n",
       "      <td>10.0</td>\n",
       "      <td>0</td>\n",
       "      <td>True</td>\n",
       "      <td>5.0</td>\n",
       "      <td>1</td>\n",
       "      <td>13</td>\n",
       "      <td>1</td>\n",
       "    </tr>\n",
       "    <tr>\n",
       "      <th>2</th>\n",
       "      <td>Book</td>\n",
       "      <td>1</td>\n",
       "      <td>9.0</td>\n",
       "      <td>0</td>\n",
       "      <td>True</td>\n",
       "      <td>0.0</td>\n",
       "      <td>0</td>\n",
       "      <td>21</td>\n",
       "      <td>1</td>\n",
       "    </tr>\n",
       "    <tr>\n",
       "      <th>3</th>\n",
       "      <td>Book</td>\n",
       "      <td>1</td>\n",
       "      <td>8.0</td>\n",
       "      <td>3</td>\n",
       "      <td>False</td>\n",
       "      <td>0.0</td>\n",
       "      <td>0</td>\n",
       "      <td>78</td>\n",
       "      <td>1</td>\n",
       "    </tr>\n",
       "    <tr>\n",
       "      <th>4</th>\n",
       "      <td>Reference</td>\n",
       "      <td>1</td>\n",
       "      <td>9.0</td>\n",
       "      <td>0</td>\n",
       "      <td>True</td>\n",
       "      <td>0.0</td>\n",
       "      <td>0</td>\n",
       "      <td>62</td>\n",
       "      <td>2</td>\n",
       "    </tr>\n",
       "  </tbody>\n",
       "</table>\n",
       "</div>"
      ],
      "text/plain": [
       "    Category  Avalible_age Required_IOS_Version  Price   Free  Rating  \\\n",
       "0  Education             1                  8.0      0   True     0.0   \n",
       "1       Book             1                 10.0      0   True     5.0   \n",
       "2       Book             1                  9.0      0   True     0.0   \n",
       "3       Book             1                  8.0      3  False     0.0   \n",
       "4  Reference             1                  9.0      0   True     0.0   \n",
       "\n",
       "   Reviews  Size  Cate_int  \n",
       "0        0    21         0  \n",
       "1        1    13         1  \n",
       "2        0    21         1  \n",
       "3        0    78         1  \n",
       "4        0    62         2  "
      ]
     },
     "execution_count": 78,
     "metadata": {},
     "output_type": "execute_result"
    }
   ],
   "source": [
    "cate_dict = {}\n",
    "for index in range(len(cate_list)):\n",
    "    cate_dict[cate_list[index]] = index\n",
    "\n",
    "data['Cate_int'] = data['Category'].map(cate_dict).astype(int)\n",
    "data.head()"
   ]
  },
  {
   "cell_type": "code",
   "execution_count": 79,
   "metadata": {},
   "outputs": [],
   "source": [
    "data.to_csv('../dataset/appstore_int.csv')"
   ]
  },
  {
   "cell_type": "code",
   "execution_count": 80,
   "metadata": {},
   "outputs": [
    {
     "data": {
      "text/html": [
       "<div>\n",
       "<style scoped>\n",
       "    .dataframe tbody tr th:only-of-type {\n",
       "        vertical-align: middle;\n",
       "    }\n",
       "\n",
       "    .dataframe tbody tr th {\n",
       "        vertical-align: top;\n",
       "    }\n",
       "\n",
       "    .dataframe thead th {\n",
       "        text-align: right;\n",
       "    }\n",
       "</style>\n",
       "<table border=\"1\" class=\"dataframe\">\n",
       "  <thead>\n",
       "    <tr style=\"text-align: right;\">\n",
       "      <th></th>\n",
       "      <th>Category</th>\n",
       "      <th>Avalible_age</th>\n",
       "      <th>Required_IOS_Version</th>\n",
       "      <th>Price</th>\n",
       "      <th>Free</th>\n",
       "      <th>Rating</th>\n",
       "      <th>Reviews</th>\n",
       "      <th>Size</th>\n",
       "    </tr>\n",
       "  </thead>\n",
       "  <tbody>\n",
       "    <tr>\n",
       "      <th>0</th>\n",
       "      <td>Education</td>\n",
       "      <td>1</td>\n",
       "      <td>8.0</td>\n",
       "      <td>0</td>\n",
       "      <td>True</td>\n",
       "      <td>0.0</td>\n",
       "      <td>0</td>\n",
       "      <td>21</td>\n",
       "    </tr>\n",
       "    <tr>\n",
       "      <th>1</th>\n",
       "      <td>Book</td>\n",
       "      <td>1</td>\n",
       "      <td>10.0</td>\n",
       "      <td>0</td>\n",
       "      <td>True</td>\n",
       "      <td>5.0</td>\n",
       "      <td>1</td>\n",
       "      <td>13</td>\n",
       "    </tr>\n",
       "    <tr>\n",
       "      <th>2</th>\n",
       "      <td>Book</td>\n",
       "      <td>1</td>\n",
       "      <td>9.0</td>\n",
       "      <td>0</td>\n",
       "      <td>True</td>\n",
       "      <td>0.0</td>\n",
       "      <td>0</td>\n",
       "      <td>21</td>\n",
       "    </tr>\n",
       "    <tr>\n",
       "      <th>3</th>\n",
       "      <td>Book</td>\n",
       "      <td>1</td>\n",
       "      <td>8.0</td>\n",
       "      <td>3</td>\n",
       "      <td>False</td>\n",
       "      <td>0.0</td>\n",
       "      <td>0</td>\n",
       "      <td>78</td>\n",
       "    </tr>\n",
       "    <tr>\n",
       "      <th>4</th>\n",
       "      <td>Reference</td>\n",
       "      <td>1</td>\n",
       "      <td>9.0</td>\n",
       "      <td>0</td>\n",
       "      <td>True</td>\n",
       "      <td>0.0</td>\n",
       "      <td>0</td>\n",
       "      <td>62</td>\n",
       "    </tr>\n",
       "  </tbody>\n",
       "</table>\n",
       "</div>"
      ],
      "text/plain": [
       "    Category  Avalible_age Required_IOS_Version  Price   Free  Rating  \\\n",
       "0  Education             1                  8.0      0   True     0.0   \n",
       "1       Book             1                 10.0      0   True     5.0   \n",
       "2       Book             1                  9.0      0   True     0.0   \n",
       "3       Book             1                  8.0      3  False     0.0   \n",
       "4  Reference             1                  9.0      0   True     0.0   \n",
       "\n",
       "   Reviews  Size  \n",
       "0        0    21  \n",
       "1        1    13  \n",
       "2        0    21  \n",
       "3        0    78  \n",
       "4        0    62  "
      ]
     },
     "execution_count": 80,
     "metadata": {},
     "output_type": "execute_result"
    }
   ],
   "source": [
    "data.drop('Cate_int', axis=1, inplace=True)\n",
    "data.head()"
   ]
  },
  {
   "cell_type": "markdown",
   "metadata": {},
   "source": [
    "---"
   ]
  },
  {
   "cell_type": "markdown",
   "metadata": {},
   "source": [
    "### one hot 인코딩 (get_dummies)"
   ]
  },
  {
   "cell_type": "code",
   "execution_count": 82,
   "metadata": {},
   "outputs": [
    {
     "data": {
      "text/plain": [
       "Index(['Avalible_age', 'Required_IOS_Version', 'Price', 'Free', 'Rating',\n",
       "       'Reviews', 'Size', 'Category_Book', 'Category_Business',\n",
       "       'Category_Developer Tools', 'Category_Education',\n",
       "       'Category_Entertainment', 'Category_Finance', 'Category_Food & Drink',\n",
       "       'Category_Games', 'Category_Graphics & Design',\n",
       "       'Category_Health & Fitness', 'Category_Lifestyle',\n",
       "       'Category_Magazines & Newspapers', 'Category_Medical', 'Category_Music',\n",
       "       'Category_Navigation', 'Category_News', 'Category_Photo & Video',\n",
       "       'Category_Productivity', 'Category_Reference', 'Category_Shopping',\n",
       "       'Category_Social Networking', 'Category_Sports', 'Category_Stickers',\n",
       "       'Category_Travel', 'Category_Utilities', 'Category_Weather'],\n",
       "      dtype='object')"
      ]
     },
     "execution_count": 82,
     "metadata": {},
     "output_type": "execute_result"
    }
   ],
   "source": [
    "data_dum = pd.get_dummies(data, columns=['Category'])\n",
    "data_dum.columns"
   ]
  },
  {
   "cell_type": "code",
   "execution_count": 83,
   "metadata": {},
   "outputs": [
    {
     "data": {
      "text/html": [
       "<div>\n",
       "<style scoped>\n",
       "    .dataframe tbody tr th:only-of-type {\n",
       "        vertical-align: middle;\n",
       "    }\n",
       "\n",
       "    .dataframe tbody tr th {\n",
       "        vertical-align: top;\n",
       "    }\n",
       "\n",
       "    .dataframe thead th {\n",
       "        text-align: right;\n",
       "    }\n",
       "</style>\n",
       "<table border=\"1\" class=\"dataframe\">\n",
       "  <thead>\n",
       "    <tr style=\"text-align: right;\">\n",
       "      <th></th>\n",
       "      <th>Avalible_age</th>\n",
       "      <th>Required_IOS_Version</th>\n",
       "      <th>Price</th>\n",
       "      <th>Free</th>\n",
       "      <th>Rating</th>\n",
       "      <th>Reviews</th>\n",
       "      <th>Size</th>\n",
       "      <th>Category_Book</th>\n",
       "      <th>Category_Business</th>\n",
       "      <th>Category_Developer Tools</th>\n",
       "      <th>...</th>\n",
       "      <th>Category_Photo &amp; Video</th>\n",
       "      <th>Category_Productivity</th>\n",
       "      <th>Category_Reference</th>\n",
       "      <th>Category_Shopping</th>\n",
       "      <th>Category_Social Networking</th>\n",
       "      <th>Category_Sports</th>\n",
       "      <th>Category_Stickers</th>\n",
       "      <th>Category_Travel</th>\n",
       "      <th>Category_Utilities</th>\n",
       "      <th>Category_Weather</th>\n",
       "    </tr>\n",
       "  </thead>\n",
       "  <tbody>\n",
       "    <tr>\n",
       "      <th>0</th>\n",
       "      <td>1</td>\n",
       "      <td>8.0</td>\n",
       "      <td>0</td>\n",
       "      <td>True</td>\n",
       "      <td>0.0</td>\n",
       "      <td>0</td>\n",
       "      <td>21</td>\n",
       "      <td>False</td>\n",
       "      <td>False</td>\n",
       "      <td>False</td>\n",
       "      <td>...</td>\n",
       "      <td>False</td>\n",
       "      <td>False</td>\n",
       "      <td>False</td>\n",
       "      <td>False</td>\n",
       "      <td>False</td>\n",
       "      <td>False</td>\n",
       "      <td>False</td>\n",
       "      <td>False</td>\n",
       "      <td>False</td>\n",
       "      <td>False</td>\n",
       "    </tr>\n",
       "    <tr>\n",
       "      <th>1</th>\n",
       "      <td>1</td>\n",
       "      <td>10.0</td>\n",
       "      <td>0</td>\n",
       "      <td>True</td>\n",
       "      <td>5.0</td>\n",
       "      <td>1</td>\n",
       "      <td>13</td>\n",
       "      <td>True</td>\n",
       "      <td>False</td>\n",
       "      <td>False</td>\n",
       "      <td>...</td>\n",
       "      <td>False</td>\n",
       "      <td>False</td>\n",
       "      <td>False</td>\n",
       "      <td>False</td>\n",
       "      <td>False</td>\n",
       "      <td>False</td>\n",
       "      <td>False</td>\n",
       "      <td>False</td>\n",
       "      <td>False</td>\n",
       "      <td>False</td>\n",
       "    </tr>\n",
       "    <tr>\n",
       "      <th>2</th>\n",
       "      <td>1</td>\n",
       "      <td>9.0</td>\n",
       "      <td>0</td>\n",
       "      <td>True</td>\n",
       "      <td>0.0</td>\n",
       "      <td>0</td>\n",
       "      <td>21</td>\n",
       "      <td>True</td>\n",
       "      <td>False</td>\n",
       "      <td>False</td>\n",
       "      <td>...</td>\n",
       "      <td>False</td>\n",
       "      <td>False</td>\n",
       "      <td>False</td>\n",
       "      <td>False</td>\n",
       "      <td>False</td>\n",
       "      <td>False</td>\n",
       "      <td>False</td>\n",
       "      <td>False</td>\n",
       "      <td>False</td>\n",
       "      <td>False</td>\n",
       "    </tr>\n",
       "    <tr>\n",
       "      <th>3</th>\n",
       "      <td>1</td>\n",
       "      <td>8.0</td>\n",
       "      <td>3</td>\n",
       "      <td>False</td>\n",
       "      <td>0.0</td>\n",
       "      <td>0</td>\n",
       "      <td>78</td>\n",
       "      <td>True</td>\n",
       "      <td>False</td>\n",
       "      <td>False</td>\n",
       "      <td>...</td>\n",
       "      <td>False</td>\n",
       "      <td>False</td>\n",
       "      <td>False</td>\n",
       "      <td>False</td>\n",
       "      <td>False</td>\n",
       "      <td>False</td>\n",
       "      <td>False</td>\n",
       "      <td>False</td>\n",
       "      <td>False</td>\n",
       "      <td>False</td>\n",
       "    </tr>\n",
       "    <tr>\n",
       "      <th>4</th>\n",
       "      <td>1</td>\n",
       "      <td>9.0</td>\n",
       "      <td>0</td>\n",
       "      <td>True</td>\n",
       "      <td>0.0</td>\n",
       "      <td>0</td>\n",
       "      <td>62</td>\n",
       "      <td>False</td>\n",
       "      <td>False</td>\n",
       "      <td>False</td>\n",
       "      <td>...</td>\n",
       "      <td>False</td>\n",
       "      <td>False</td>\n",
       "      <td>True</td>\n",
       "      <td>False</td>\n",
       "      <td>False</td>\n",
       "      <td>False</td>\n",
       "      <td>False</td>\n",
       "      <td>False</td>\n",
       "      <td>False</td>\n",
       "      <td>False</td>\n",
       "    </tr>\n",
       "  </tbody>\n",
       "</table>\n",
       "<p>5 rows × 33 columns</p>\n",
       "</div>"
      ],
      "text/plain": [
       "   Avalible_age Required_IOS_Version  Price   Free  Rating  Reviews  Size  \\\n",
       "0             1                  8.0      0   True     0.0        0    21   \n",
       "1             1                 10.0      0   True     5.0        1    13   \n",
       "2             1                  9.0      0   True     0.0        0    21   \n",
       "3             1                  8.0      3  False     0.0        0    78   \n",
       "4             1                  9.0      0   True     0.0        0    62   \n",
       "\n",
       "   Category_Book  Category_Business  Category_Developer Tools  ...  \\\n",
       "0          False              False                     False  ...   \n",
       "1           True              False                     False  ...   \n",
       "2           True              False                     False  ...   \n",
       "3           True              False                     False  ...   \n",
       "4          False              False                     False  ...   \n",
       "\n",
       "   Category_Photo & Video  Category_Productivity  Category_Reference  \\\n",
       "0                   False                  False               False   \n",
       "1                   False                  False               False   \n",
       "2                   False                  False               False   \n",
       "3                   False                  False               False   \n",
       "4                   False                  False                True   \n",
       "\n",
       "   Category_Shopping  Category_Social Networking  Category_Sports  \\\n",
       "0              False                       False            False   \n",
       "1              False                       False            False   \n",
       "2              False                       False            False   \n",
       "3              False                       False            False   \n",
       "4              False                       False            False   \n",
       "\n",
       "   Category_Stickers  Category_Travel  Category_Utilities  Category_Weather  \n",
       "0              False            False               False             False  \n",
       "1              False            False               False             False  \n",
       "2              False            False               False             False  \n",
       "3              False            False               False             False  \n",
       "4              False            False               False             False  \n",
       "\n",
       "[5 rows x 33 columns]"
      ]
     },
     "execution_count": 83,
     "metadata": {},
     "output_type": "execute_result"
    }
   ],
   "source": [
    "data_dum.head()"
   ]
  },
  {
   "cell_type": "code",
   "execution_count": 85,
   "metadata": {},
   "outputs": [],
   "source": [
    "data_dum.to_csv('../dataset/appstore_dummy.csv')"
   ]
  },
  {
   "cell_type": "code",
   "execution_count": null,
   "metadata": {},
   "outputs": [],
   "source": []
  },
  {
   "cell_type": "code",
   "execution_count": null,
   "metadata": {},
   "outputs": [],
   "source": []
  },
  {
   "cell_type": "code",
   "execution_count": null,
   "metadata": {},
   "outputs": [],
   "source": []
  },
  {
   "cell_type": "code",
   "execution_count": null,
   "metadata": {},
   "outputs": [],
   "source": []
  },
  {
   "cell_type": "code",
   "execution_count": null,
   "metadata": {},
   "outputs": [],
   "source": []
  },
  {
   "cell_type": "markdown",
   "metadata": {},
   "source": [
    "### Feature Hasing"
   ]
  },
  {
   "cell_type": "code",
   "execution_count": 52,
   "metadata": {},
   "outputs": [],
   "source": [
    "# top18 = data['Primary_Genre'].value_counts().sort_values(ascending=False).head(18).index\n",
    "# data = data[data['Primary_Genre'].isin(top18)]\n",
    "# data.info(), top18"
   ]
  },
  {
   "cell_type": "code",
   "execution_count": 53,
   "metadata": {},
   "outputs": [],
   "source": [
    "# genres = []\n",
    "# for genre in top18:\n",
    "#     genres.append([genre])\n",
    "\n",
    "# genres\n"
   ]
  },
  {
   "cell_type": "code",
   "execution_count": 54,
   "metadata": {},
   "outputs": [],
   "source": [
    "# from sklearn.feature_extraction import FeatureHasher\n",
    "# # n_features는 해시 테이블의 크기를 정합니다. 너무 작으면 충돌이 빈번하게 발생할 수 있습니다.\n",
    "# hasher = FeatureHasher(n_features=18, input_type='string')\n",
    "# # 해시 트릭 적용\n",
    "# hashed_features = hasher.transform(genres)\n",
    "# # 해시된 특성을 배열로 변환\n",
    "# hashed_features.toarray()"
   ]
  },
  {
   "cell_type": "code",
   "execution_count": 55,
   "metadata": {},
   "outputs": [],
   "source": [
    "# hashed_features_array = hashed_features.toarray()\n",
    "# hashed_features_array.shape, len(hashed_features_array)"
   ]
  },
  {
   "cell_type": "code",
   "execution_count": 56,
   "metadata": {},
   "outputs": [],
   "source": [
    "# hashed_feature_cols = []\n",
    "# for index in range(len(hashed_features_array)):\n",
    "#     hashed_feature_cols.append('hashed_featuree_'+str(index))\n",
    "\n",
    "# type(hashed_feature_cols)"
   ]
  },
  {
   "cell_type": "code",
   "execution_count": 57,
   "metadata": {},
   "outputs": [],
   "source": [
    "# hashed_features_df = pd.DataFrame(hashed_features.toarray())\n",
    "# hashed_features_df"
   ]
  },
  {
   "cell_type": "code",
   "execution_count": 58,
   "metadata": {},
   "outputs": [],
   "source": [
    "# hashed_feature_names = ['hashed_' + genre for genre in top18]\n",
    "# hashed_feature_names"
   ]
  },
  {
   "cell_type": "code",
   "execution_count": 59,
   "metadata": {},
   "outputs": [],
   "source": [
    "# hashed_features_df.columns = hashed_feature_names\n",
    "# hashed_features_df"
   ]
  },
  {
   "cell_type": "code",
   "execution_count": 60,
   "metadata": {},
   "outputs": [],
   "source": [
    "# print(hashed_features)"
   ]
  },
  {
   "cell_type": "code",
   "execution_count": null,
   "metadata": {},
   "outputs": [],
   "source": []
  }
 ],
 "metadata": {
  "kernelspec": {
   "display_name": "ds_study",
   "language": "python",
   "name": "python3"
  },
  "language_info": {
   "codemirror_mode": {
    "name": "ipython",
    "version": 3
   },
   "file_extension": ".py",
   "mimetype": "text/x-python",
   "name": "python",
   "nbconvert_exporter": "python",
   "pygments_lexer": "ipython3",
   "version": "3.8.18"
  }
 },
 "nbformat": 4,
 "nbformat_minor": 2
}
